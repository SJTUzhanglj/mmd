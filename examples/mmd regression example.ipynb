{
 "cells": [
  {
   "cell_type": "code",
   "execution_count": 1,
   "metadata": {
    "collapsed": true
   },
   "outputs": [],
   "source": [
    "from __future__ import division, print_function"
   ]
  },
  {
   "cell_type": "code",
   "execution_count": 2,
   "metadata": {
    "collapsed": false
   },
   "outputs": [],
   "source": [
    "import numpy as np\n",
    "import mmd"
   ]
  },
  {
   "cell_type": "markdown",
   "metadata": {},
   "source": [
    "## Generate fake data\n",
    "As an example, let's regress 1d normals to their mean."
   ]
  },
  {
   "cell_type": "markdown",
   "metadata": {},
   "source": [
    "We're storing the data as a list of `n` numpy arrays, each of size `n_samp x dim` (with `dim == 1`)."
   ]
  },
  {
   "cell_type": "code",
   "execution_count": 3,
   "metadata": {
    "collapsed": true
   },
   "outputs": [],
   "source": [
    "n = 500\n",
    "mean = np.random.normal(0, 10, size=n)\n",
    "var = np.random.gamma(5, size=n)\n",
    "n_samp = np.random.randint(10, 500, size=n)\n",
    "samps = [np.random.normal(m, v, size=s)[:, np.newaxis]\n",
    "         for m, v, s in zip(mean, var, n_samp)]"
   ]
  },
  {
   "cell_type": "code",
   "execution_count": 4,
   "metadata": {
    "collapsed": false
   },
   "outputs": [],
   "source": [
    "# this gives us a progress bar for MMD computations\n",
    "from mmd.utils import show_progress\n",
    "show_progress('mmd.mmd.progress')"
   ]
  },
  {
   "cell_type": "code",
   "execution_count": 5,
   "metadata": {
    "collapsed": true
   },
   "outputs": [],
   "source": [
    "# Get the median pairwise squared distance in the aggregate sample,\n",
    "# as a heuristic for choosing the bandwidth of the inner RBF kernel.\n",
    "from sklearn.metrics.pairwise import euclidean_distances\n",
    "sub = np.vstack(samps)\n",
    "sub = sub[np.random.choice(sub.shape[0], min(1000, sub.shape[0]), replace=False)]\n",
    "D2 = euclidean_distances(sub, squared=True)\n",
    "med_2 = np.median(D2[np.triu_indices_from(D2, k=1)], overwrite_input=True)\n",
    "del sub, D2"
   ]
  },
  {
   "cell_type": "code",
   "execution_count": 6,
   "metadata": {
    "collapsed": true
   },
   "outputs": [],
   "source": [
    "from sklearn import cross_validation as cv\n",
    "from sklearn.kernel_ridge import KernelRidge\n",
    "import sys"
   ]
  },
  {
   "cell_type": "code",
   "execution_count": 7,
   "metadata": {
    "collapsed": true
   },
   "outputs": [],
   "source": [
    "l1_gamma_mults = np.array([1/16, 1/4, 1, 4])  # Could expand these, but it's quicker if you don't. :)\n",
    "l1_gammas = l1_gamma_mults * med_2"
   ]
  },
  {
   "cell_type": "markdown",
   "metadata": {},
   "source": [
    "Now we'll get the $\\mathrm{MMD}^2$ values for each of the proposed gammas.\n",
    "(This is maybe somewhat faster than doing it independently, but I haven't\n",
    "really tested that; if it's causing memory issues or anything, do them separately.)\n",
    "\n",
    "We also want to save the \"diagonal\" values (the mean map kernel between a set\n",
    "and itself), so we can compute the MMD to test values later without recomputing\n",
    "those."
   ]
  },
  {
   "cell_type": "code",
   "execution_count": 8,
   "metadata": {
    "collapsed": false
   },
   "outputs": [
    {
     "name": "stderr",
     "output_type": "stream",
     "text": [
      "RBF mean map kernel:\n",
      " 125,250 of 125,250 (100%) |###########################################################| Time: 0:02:11\n",
      "\n"
     ]
    }
   ],
   "source": [
    "mmds, mmk_diags = mmd.rbf_mmd(samps, gammas=l1_gammas, squared=True, n_jobs=40, ret_X_diag=True)"
   ]
  },
  {
   "cell_type": "markdown",
   "metadata": {},
   "source": [
    "Now, we want to turn this into a kernel and evaluate the regression\n",
    "for each of the other hyperparameter values.\n",
    "\n",
    "We'll just do a 3d grid search here.\n",
    "\n",
    "Ideally, this would be:\n",
    "\n",
    "- Parallelized. Scikit-learn's tools for this want to pickle the kernels, which is a non-starter here. It'd take some coding to work around that.\n",
    "- Not a grid search. It's harder to get away from grid search for the l1 gamma because it's kind of expensive, but you could definitely do a randomized search (or some kind of actual optimization) for the l2 gamma + alpha parameters.\n",
    "- Really, KernelRidge should support leave-one-out CV across a bunch of alphas, like RidgeCV. [Supposedly this isn't too hard](https://github.com/scikit-learn/scikit-learn/pull/3942#issuecomment-179570126) but I haven't spent the time to try to figure it out, and apparently neither has anyone else. This would help with the parallelization issue."
   ]
  },
  {
   "cell_type": "code",
   "execution_count": 9,
   "metadata": {
    "collapsed": true
   },
   "outputs": [],
   "source": [
    "# Choose parameters for the hyperparameter search\n",
    "k_fold = list(cv.KFold(n, n_folds=3, shuffle=True))\n",
    "\n",
    "l2_gamma_mults = np.array([1/4, 1, 4, 8])\n",
    "alphas = np.array([1/128, 1/64, 1/16, 1/4, 1, 4])\n",
    "\n",
    "scores = np.empty((l1_gamma_mults.size, l2_gamma_mults.size, alphas.size, len(k_fold)))\n",
    "scores.fill(np.nan)"
   ]
  },
  {
   "cell_type": "code",
   "execution_count": 10,
   "metadata": {
    "collapsed": false
   },
   "outputs": [
    {
     "name": "stderr",
     "output_type": "stream",
     "text": [
      "l1 gamma 1 / 4: 7.562\n",
      "\tl2 gamma 1 / 4: 0.01677\n",
      "\t\talpha 1 / 6: 0.0078125 \t [ 0.9253348   0.91112741  0.92746963]\n",
      "\t\talpha 2 / 6: 0.015625 \t [ 0.86428587  0.83874947  0.87861644]\n",
      "\t\talpha 3 / 6: 0.0625 \t [ 0.64522929  0.60369467  0.67002685]\n",
      "\t\talpha 4 / 6: 0.25 \t [ 0.33072326  0.29631131  0.34359958]\n",
      "\t\talpha 5 / 6: 1.0 \t [ 0.10770497  0.08482278  0.11357141]\n",
      "\t\talpha 6 / 6: 4.0 \t [ 0.02324835  0.005496    0.02778346]\n",
      "\tl2 gamma 2 / 4: 0.06708\n",
      "\t\talpha 1 / 6: 0.0078125 \t [ 0.98203002  0.9805339   0.96849574]\n",
      "\t\talpha 2 / 6: 0.015625 \t [ 0.96198555  0.95618912  0.95410813]\n",
      "\t\talpha 3 / 6: 0.0625 \t [ 0.86382546  0.83823775  0.87833251]\n",
      "\t\talpha 4 / 6: 0.25 \t [ 0.64438717  0.60291489  0.66924618]\n",
      "\t\talpha 5 / 6: 1.0 \t [ 0.32986607  0.29558004  0.34272459]\n",
      "\t\talpha 6 / 6: 4.0 \t [ 0.10734844  0.08462546  0.11317859]\n",
      "\tl2 gamma 3 / 4: 0.2683\n",
      "\t\talpha 1 / 6: 0.0078125 \t [ 0.99543429  0.99579355  0.9813862 ]\n",
      "\t\talpha 2 / 6: 0.015625 \t [ 0.99145241  0.99138094  0.97655579]\n",
      "\t\talpha 3 / 6: 0.0625 \t [ 0.9612365   0.95532443  0.95390085]\n",
      "\t\talpha 4 / 6: 0.25 \t [ 0.86194888  0.8361614   0.87716608]\n",
      "\t\talpha 5 / 6: 1.0 \t [ 0.64100342  0.59978763  0.66610057]\n",
      "\t\talpha 6 / 6: 4.0 \t [ 0.32645335  0.29266772  0.33923855]\n",
      "\tl2 gamma 4 / 4: 0.5366\n",
      "\t\talpha 1 / 6: 0.0078125 \t [ 0.99660695  0.9970905   0.98441303]\n",
      "\t\talpha 2 / 6: 0.015625 \t [ 0.9952733   0.99556481  0.98137235]\n",
      "\t\talpha 3 / 6: 0.0625 \t [ 0.9809779   0.97938433  0.96832703]\n",
      "\t\talpha 4 / 6: 0.25 \t [ 0.92204166  0.90731807  0.9260111 ]\n",
      "\t\talpha 5 / 6: 1.0 \t [ 0.76536657  0.7292215   0.78998224]\n",
      "\t\talpha 6 / 6: 4.0 \t [ 0.48016052  0.44116842  0.4998896 ]\n",
      "l1 gamma 2 / 4: 30.25\n",
      "\tl2 gamma 1 / 4: 0.01013\n",
      "\t\talpha 1 / 6: 0.0078125 \t [ 0.79933156  0.76548461  0.8205987 ]\n",
      "\t\talpha 2 / 6: 0.015625 \t [ 0.68228314  0.64153397  0.70724916]\n",
      "\t\talpha 3 / 6: 0.0625 \t [ 0.37242102  0.33629039  0.38694699]\n",
      "\t\talpha 4 / 6: 0.25 \t [ 0.1284564   0.10438441  0.13474427]\n",
      "\t\talpha 5 / 6: 1.0 \t [ 0.02964356  0.01138949  0.03426635]\n",
      "\t\talpha 6 / 6: 4.0 \t [ 0.001045   -0.01533853  0.00537696]\n",
      "\tl2 gamma 2 / 4: 0.04052\n",
      "\t\talpha 1 / 6: 0.0078125 \t [ 0.93532218  0.92254241  0.93446721]\n",
      "\t\talpha 2 / 6: 0.015625 \t [ 0.88182687  0.85869737  0.89289967]\n",
      "\t\talpha 3 / 6: 0.0625 \t [ 0.68199126  0.64126241  0.70698824]\n",
      "\t\talpha 4 / 6: 0.25 \t [ 0.37209429  0.33600907  0.38661566]\n",
      "\t\talpha 5 / 6: 1.0 \t [ 0.1283001   0.10427815  0.1345786 ]\n",
      "\t\talpha 6 / 6: 4.0 \t [ 0.02963815  0.01150946  0.03423441]\n",
      "\tl2 gamma 3 / 4: 0.1621\n",
      "\t\talpha 1 / 6: 0.0078125 \t [ 0.98325221  0.98147808  0.96896823]\n",
      "\t\talpha 2 / 6: 0.015625 \t [ 0.96648322  0.96092088  0.95684321]\n",
      "\t\talpha 3 / 6: 0.0625 \t [ 0.88119356  0.85801448  0.89254499]\n",
      "\t\talpha 4 / 6: 0.25 \t [ 0.68082137  0.64017482  0.70594108]\n",
      "\t\talpha 5 / 6: 1.0 \t [ 0.370789   0.3348852  0.3852916]\n",
      "\t\talpha 6 / 6: 4.0 \t [ 0.1276767   0.10385361  0.13391809]\n",
      "\tl2 gamma 4 / 4: 0.3241\n",
      "\t\talpha 1 / 6: 0.0078125 \t [ 0.99126925  0.99096328  0.9758109 ]\n",
      "\t\talpha 2 / 6: 0.015625 \t [ 0.98309079  0.98126885  0.96893928]\n",
      "\t\talpha 3 / 6: 0.0625 \t [ 0.93434939  0.92145087  0.93408128]\n",
      "\t\talpha 4 / 6: 0.25 \t [ 0.79701186  0.76315473  0.8188684 ]\n",
      "\t\talpha 5 / 6: 1.0 \t [ 0.52994289  0.48929257  0.55134852]\n",
      "\t\talpha 6 / 6: 4.0 \t [ 0.22805858  0.19894332  0.23710312]\n",
      "l1 gamma 3 / 4: 121.0\n",
      "\tl2 gamma 1 / 4: 0.006552\n",
      "\t\talpha 1 / 6: 0.0078125 \t [ 0.59008066  0.54844952  0.61324882]\n",
      "\t\talpha 2 / 6: 0.015625 \t [ 0.43084104  0.39261253  0.44779727]\n",
      "\t\talpha 3 / 6: 0.0625 \t [ 0.16134347  0.13547177  0.16838393]\n",
      "\t\talpha 4 / 6: 0.25 \t [ 0.04036663  0.02144411  0.04510735]\n",
      "\t\talpha 5 / 6: 1.0 \t [ 0.0038847  -0.01279122  0.00825952]\n",
      "\t\talpha 6 / 6: 4.0 \t [-0.00566876 -0.02163579 -0.00138511]\n",
      "\tl2 gamma 2 / 4: 0.02621\n",
      "\t\talpha 1 / 6: 0.0078125 \t [ 0.83080074  0.79987327  0.84862107]\n",
      "\t\talpha 2 / 6: 0.015625 \t [ 0.72747294  0.68839863  0.75177899]\n",
      "\t\talpha 3 / 6: 0.0625 \t [ 0.4306952   0.39248634  0.44765038]\n",
      "\t\talpha 4 / 6: 0.25 \t [ 0.16126049  0.13540816  0.16829858]\n",
      "\t\talpha 5 / 6: 1.0 \t [ 0.04035006  0.02146358  0.04508471]\n",
      "\t\talpha 6 / 6: 4.0 \t [ 0.00392248 -0.01263198  0.008274  ]\n",
      "\tl2 gamma 3 / 4: 0.1048\n",
      "\t\talpha 1 / 6: 0.0078125 \t [ 0.94530131  0.93322669  0.94071526]\n",
      "\t\talpha 2 / 6: 0.015625 \t [ 0.90111136  0.88029346  0.9076435 ]\n",
      "\t\talpha 3 / 6: 0.0625 \t [ 0.72700472  0.6879654   0.75138133]\n",
      "\t\talpha 4 / 6: 0.25 \t [ 0.43011198  0.39198175  0.44706291]\n",
      "\t\talpha 5 / 6: 1.0 \t [ 0.16092904  0.13515403  0.16795764]\n",
      "\t\talpha 6 / 6: 4.0 \t [ 0.04028344  0.02153968  0.04499407]\n",
      "\tl2 gamma 4 / 4: 0.2096\n",
      "\t\talpha 1 / 6: 0.0078125 \t [ 0.97034964  0.96425102  0.95838798]\n",
      "\t\talpha 2 / 6: 0.015625 \t [ 0.94508432  0.93298604  0.94062706]\n",
      "\t\talpha 3 / 6: 0.0625 \t [ 0.82997094  0.79905935  0.84805169]\n",
      "\t\talpha 4 / 6: 0.25 \t [ 0.5886217   0.54715845  0.61184844]\n",
      "\t\talpha 5 / 6: 1.0 \t [ 0.27767896  0.24596812  0.28839051]\n",
      "\t\talpha 6 / 6: 4.0 \t [ 0.08427846  0.06296932  0.08963635]\n",
      "l1 gamma 4 / 4: 484.0\n",
      "\tl2 gamma 1 / 4: 0.004618\n",
      "\t\talpha 1 / 6: 0.0078125 \t [ 0.35031579  0.31512126  0.36359181]\n",
      "\t\talpha 2 / 6: 0.015625 \t [ 0.21405404  0.18534118  0.22243785]\n",
      "\t\talpha 3 / 6: 0.0625 \t [ 0.0590918   0.03903424  0.06403364]\n",
      "\t\talpha 4 / 6: 0.25 \t [ 0.00903746 -0.00798812  0.01344722]\n",
      "\t\talpha 5 / 6: 1.0 \t [ -4.38927273e-03  -2.05560712e-02  -7.67348200e-05]\n",
      "\t\talpha 6 / 6: 4.0 \t [-0.0077666  -0.02360415 -0.0034969 ]\n",
      "\tl2 gamma 2 / 4: 0.01847\n",
      "\t\talpha 1 / 6: 0.0078125 \t [ 0.65892488  0.61743994  0.68291129]\n",
      "\t\talpha 2 / 6: 0.015625 \t [ 0.50890343  0.4683392   0.52877418]\n",
      "\t\talpha 3 / 6: 0.0625 \t [ 0.21399975  0.18529711  0.22238288]\n",
      "\t\talpha 4 / 6: 0.25 \t [ 0.05907455  0.03902952  0.06401532]\n",
      "\t\talpha 5 / 6: 1.0 \t [ 0.00904342 -0.00794874  0.01344782]\n",
      "\t\talpha 6 / 6: 4.0 \t [ -4.34596401e-03  -2.03923785e-02  -5.60242740e-05]\n",
      "\tl2 gamma 3 / 4: 0.07389\n",
      "\t\talpha 1 / 6: 0.0078125 \t [ 0.86410064  0.83618152  0.87608821]\n",
      "\t\talpha 2 / 6: 0.015625 \t [ 0.77854721  0.74208114  0.79987677]\n",
      "\t\talpha 3 / 6: 0.0625 \t [ 0.50859409  0.46807412  0.52846942]\n",
      "\t\talpha 4 / 6: 0.25 \t [ 0.21378271  0.18512098  0.22216313]\n",
      "\t\talpha 5 / 6: 1.0 \t [ 0.05900562  0.03901061  0.0639421 ]\n",
      "\t\talpha 6 / 6: 4.0 \t [ 0.00906677 -0.00779334  0.01344993]\n",
      "\tl2 gamma 4 / 4: 0.1478\n",
      "\t\talpha 1 / 6: 0.0078125 \t [ 0.91993713  0.90062585  0.92032128]\n",
      "\t\talpha 2 / 6: 0.015625 \t [ 0.86387362  0.83596879  0.87594703]\n",
      "\t\talpha 3 / 6: 0.0625 \t [ 0.6582745  0.6168746  0.6823209]\n",
      "\t\talpha 4 / 6: 0.25 \t [ 0.34957302  0.31449283  0.36284128]\n",
      "\t\talpha 5 / 6: 1.0 \t [ 0.1174891   0.09412142  0.1234212 ]\n",
      "\t\talpha 6 / 6: 4.0 \t [ 0.02630513  0.00841186  0.03084043]"
     ]
    },
    {
     "name": "stdout",
     "output_type": "stream",
     "text": [
      "CPU times: user 28.1 s, sys: 22.9 s, total: 51 s\n",
      "Wall time: 3.79 s\n"
     ]
    },
    {
     "name": "stderr",
     "output_type": "stream",
     "text": [
      "\n"
     ]
    }
   ],
   "source": [
    "%%time\n",
    "\n",
    "K = np.empty((n, n), dtype=samps[0].dtype)\n",
    "for l1_gamma_i, l1_gamma in enumerate(l1_gamma_mults * med_2):\n",
    "    print(\"l1 gamma {} / {}: {:.4}\".format(l1_gamma_i + 1, len(l1_gamma_mults), l1_gamma), file=sys.stderr)\n",
    "    D2_mmd = mmds[l1_gamma_i]\n",
    "    \n",
    "    # get the median of *these* squared distances,\n",
    "    # to scale the bandwidth of the outer RBF kernel\n",
    "    mmd_med2 = np.median(D2_mmd[np.triu_indices_from(D2_mmd, k=1)])\n",
    "    \n",
    "    for l2_gamma_i, l2_gamma in enumerate(l2_gamma_mults * mmd_med2):\n",
    "        print(\"\\tl2 gamma {} / {}: {:.4}\".format(l2_gamma_i + 1, len(l2_gamma_mults), l2_gamma), file=sys.stderr)\n",
    "        np.multiply(D2_mmd, -l2_gamma, out=K)\n",
    "        np.exp(K, out=K)\n",
    "        \n",
    "        for alpha_i, alpha in enumerate(alphas):\n",
    "            ridge = KernelRidge(alpha=alpha, kernel='precomputed')\n",
    "            these = cv.cross_val_score(ridge, K, mean, cv=k_fold)\n",
    "            scores[l1_gamma_i, l2_gamma_i, alpha_i, :] = these\n",
    "            print(\"\\t\\talpha {} / {}: {} \\t {}\".format(alpha_i + 1, len(alphas), alpha, these), file=sys.stderr)"
   ]
  },
  {
   "cell_type": "code",
   "execution_count": 11,
   "metadata": {
    "collapsed": false
   },
   "outputs": [],
   "source": [
    "mean_scores = scores.mean(axis=-1)"
   ]
  },
  {
   "cell_type": "code",
   "execution_count": 12,
   "metadata": {
    "collapsed": true
   },
   "outputs": [],
   "source": [
    "%matplotlib inline\n",
    "import matplotlib.pyplot as plt\n",
    "import seaborn as sns"
   ]
  },
  {
   "cell_type": "code",
   "execution_count": 13,
   "metadata": {
    "collapsed": false
   },
   "outputs": [
    {
     "data": {
      "image/png": "[encoded data removed]",
      "text/plain": [
       "<matplotlib.figure.Figure at 0x7fadd8048a90>"
      ]
     },
     "metadata": {},
     "output_type": "display_data"
    }
   ],
   "source": [
    "import matplotlib.ticker as ticker\n",
    "\n",
    "fig = plt.figure(figsize=(8, 15))\n",
    "for i in range(len(l1_gamma_mults)):\n",
    "    ax = fig.add_subplot(len(l1_gamma_mults), 1, i+1)\n",
    "    cax = ax.matshow(mean_scores[i, :, :], vmin=0, vmax=1)\n",
    "    \n",
    "    ax.set_yticklabels([''] + ['{:.3}'.format(g * mmd_med2) for g in l2_gamma_mults])\n",
    "    ax.set_xticklabels([''] + ['{:.3}'.format(a) for a in alphas])\n",
    "    ax.xaxis.set_major_locator(ticker.MultipleLocator(1))\n",
    "    ax.yaxis.set_major_locator(ticker.MultipleLocator(1))\n",
    "    \n",
    "    fig.colorbar(cax)\n",
    "    ax.set_title(\"L1 gamma: {}\".format(l1_gamma_mults[i] * med_2))\n",
    "plt.tight_layout()"
   ]
  },
  {
   "cell_type": "markdown",
   "metadata": {},
   "source": [
    "Looking at these results, the best results are with the lowest alpha, lowest L1 gamma, and highest L2 gamma. So if we were really trying to solve this as best as possible, we'd maybe want to try lower alphas / lower L1 gammas / higher L2 gammas. But, whatever; let's just use the best of the ones we did try for now."
   ]
  },
  {
   "cell_type": "code",
   "execution_count": 14,
   "metadata": {
    "collapsed": false
   },
   "outputs": [],
   "source": [
    "best_l1_gamma_i, best_l2_gamma_i, best_alpha_i = np.unravel_index(mean_scores.argmax(), mean_scores.shape)\n",
    "best_l1_gamma = l1_gamma_mults[best_l1_gamma_i] * med_2\n",
    "best_l2_gamma = l2_gamma_mults[best_l2_gamma_i] * mmd_med2\n",
    "best_alpha = alphas[best_alpha_i]"
   ]
  },
  {
   "cell_type": "code",
   "execution_count": 16,
   "metadata": {
    "collapsed": false
   },
   "outputs": [
    {
     "data": {
      "text/plain": [
       "(0, 3, 0)"
      ]
     },
     "execution_count": 16,
     "metadata": {},
     "output_type": "execute_result"
    }
   ],
   "source": [
    "best_l1_gamma_i, best_l2_gamma_i, best_alpha_i"
   ]
  },
  {
   "cell_type": "code",
   "execution_count": 15,
   "metadata": {
    "collapsed": false
   },
   "outputs": [
    {
     "data": {
      "text/plain": [
       "(7.5621827082571507, 0.14778624920765476, 0.0078125)"
      ]
     },
     "execution_count": 15,
     "metadata": {},
     "output_type": "execute_result"
    }
   ],
   "source": [
    "best_l1_gamma, best_l2_gamma, best_alpha"
   ]
  },
  {
   "cell_type": "markdown",
   "metadata": {},
   "source": [
    "Now, train a model on the full training set:"
   ]
  },
  {
   "cell_type": "code",
   "execution_count": 17,
   "metadata": {
    "collapsed": false
   },
   "outputs": [
    {
     "data": {
      "text/plain": [
       "KernelRidge(alpha=0.0078125, coef0=1, degree=3, gamma=None,\n",
       "      kernel='precomputed', kernel_params=None)"
      ]
     },
     "execution_count": 17,
     "metadata": {},
     "output_type": "execute_result"
    }
   ],
   "source": [
    "# get the training kernel\n",
    "D2_mmd = mmds[best_l1_gamma_i]\n",
    "np.multiply(D2_mmd, -best_l2_gamma, out=K)\n",
    "np.exp(K, out=K)\n",
    "\n",
    "ridge = KernelRidge(alpha=best_alpha, kernel='precomputed')\n",
    "ridge.fit(K, mean)"
   ]
  },
  {
   "cell_type": "markdown",
   "metadata": {},
   "source": [
    "To evaluate on new data:"
   ]
  },
  {
   "cell_type": "code",
   "execution_count": 18,
   "metadata": {
    "collapsed": true
   },
   "outputs": [],
   "source": [
    "# generate some test data from the same distribution\n",
    "t_n = 100\n",
    "t_mean = np.random.normal(0, 10, size=t_n)\n",
    "t_var = np.random.gamma(5, size=t_n)\n",
    "t_n_samp = np.random.randint(10, 500, size=t_n)\n",
    "t_samps = [np.random.normal(m, v, size=s)[:, np.newaxis]\n",
    "           for m, v, s in zip(t_mean, t_var, t_n_samp)]"
   ]
  },
  {
   "cell_type": "code",
   "execution_count": 19,
   "metadata": {
    "collapsed": false
   },
   "outputs": [
    {
     "name": "stderr",
     "output_type": "stream",
     "text": [
      "RBF mean map kernel:\n",
      " 50,100 of 50,100 (100%) |#############################################################| Time: 0:00:36\n",
      "\n"
     ]
    }
   ],
   "source": [
    "# get the kernel from the training data to the test data\n",
    "t_K = mmd.rbf_mmd(t_samps, samps, gammas=best_l1_gamma, squared=True,\n",
    "                  Y_diag=mmk_diags[best_l1_gamma_i], n_jobs=20)\n",
    "t_K *= -best_l2_gamma\n",
    "np.exp(t_K, out=t_K);"
   ]
  },
  {
   "cell_type": "code",
   "execution_count": 20,
   "metadata": {
    "collapsed": false
   },
   "outputs": [],
   "source": [
    "preds = ridge.predict(t_K)"
   ]
  },
  {
   "cell_type": "code",
   "execution_count": 21,
   "metadata": {
    "collapsed": false
   },
   "outputs": [
    {
     "data": {
      "text/plain": [
       "<matplotlib.collections.PathCollection at 0x7fab400e2710>"
      ]
     },
     "execution_count": 21,
     "metadata": {},
     "output_type": "execute_result"
    },
    {
     "data": {
      "image/png": "[encoded data removed]",
      "text/plain": [
       "<matplotlib.figure.Figure at 0x7fadd80afd10>"
      ]
     },
     "metadata": {},
     "output_type": "display_data"
    }
   ],
   "source": [
    "plt.figure(figsize=(5, 5))\n",
    "plt.scatter(t_mean, preds)"
   ]
  },
  {
   "cell_type": "markdown",
   "metadata": {},
   "source": [
    "Pretty good predictions!"
   ]
  }
 ],
 "metadata": {
  "kernelspec": {
   "display_name": "Python 2",
   "language": "python",
   "name": "python2"
  },
  "language_info": {
   "codemirror_mode": {
    "name": "ipython",
    "version": 2
   },
   "file_extension": ".py",
   "mimetype": "text/x-python",
   "name": "python",
   "nbconvert_exporter": "python",
   "pygments_lexer": "ipython2",
   "version": "2.7.11"
  }
 },
 "nbformat": 4,
 "nbformat_minor": 0
}
